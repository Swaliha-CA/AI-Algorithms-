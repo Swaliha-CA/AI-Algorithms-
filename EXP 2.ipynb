{
 "cells": [
  {
   "cell_type": "code",
   "execution_count": 24,
   "id": "121c1f99-f6bd-4ab8-8217-0417ec41ba5e",
   "metadata": {},
   "outputs": [
    {
     "name": "stdin",
     "output_type": "stream",
     "text": [
      "Enter the number: 7\n"
     ]
    },
    {
     "name": "stdout",
     "output_type": "stream",
     "text": [
      "True\n"
     ]
    }
   ],
   "source": [
    "def is_prime(n):\n",
    "    if n<=1:\n",
    "        return false\n",
    "    for i in range(2,int(n**0.5)+1):\n",
    "        if n%i==0:\n",
    "            return False\n",
    "        return True\n",
    "n=int(input(\"Enter the number:\"))\n",
    "print(is_prime(n))\n",
    "        \n",
    "\t\t\t\t"
   ]
  },
  {
   "cell_type": "code",
   "execution_count": 14,
   "id": "d319b955-34cf-4d07-a022-08e3fa5abf4f",
   "metadata": {},
   "outputs": [
    {
     "name": "stdout",
     "output_type": "stream",
     "text": [
      "A 1\n",
      "B 2\n",
      "None\n",
      "6\n"
     ]
    }
   ],
   "source": [
    "class student:\n",
    "    def __init__(self,name,grade):\n",
    "        self.name=name  #class attributes =self.name\n",
    "        self.grade=grade\n",
    "        \n",
    "    def get_name(self):\n",
    "        return self.name\n",
    "\n",
    "    def get_grade(self):\n",
    "        return self.grade\n",
    "\n",
    "    def set_name(self,name):\n",
    "         self.name=name\n",
    "\n",
    "    def set_grade(self,grade):\n",
    "         self.grade=grade\n",
    "\n",
    "S1=student('A',1)\n",
    "S2=student('B',2)\n",
    "S3=student('C',3)\n",
    "print(S1.name,S1.grade)\n",
    "print(S2.name,S2.grade)\n",
    "print(S3.set_name(6))\n",
    "print(S3.get_name())\n",
    "\n",
    "    \n",
    "\n",
    "    \n",
    "\n",
    "    \n",
    "        \n",
    "    "
   ]
  },
  {
   "cell_type": "code",
   "execution_count": 15,
   "id": "a9741b7e-2c39-4394-878e-19b340a4847b",
   "metadata": {},
   "outputs": [
    {
     "name": "stdout",
     "output_type": "stream",
     "text": [
      "1\n",
      "2\n",
      "3\n",
      "4\n",
      "5\n",
      "6\n",
      "7\n",
      "8\n",
      "9\n",
      "10\n"
     ]
    }
   ],
   "source": [
    "i=1\n",
    "while i<=10:\n",
    "\tprint(i)\n",
    "\ti+=1"
   ]
  },
  {
   "cell_type": "code",
   "execution_count": 16,
   "id": "a78b26cb-6a64-40a6-96e0-a9eef930ec57",
   "metadata": {},
   "outputs": [
    {
     "name": "stdin",
     "output_type": "stream",
     "text": [
      "Enter the number: 4\n",
      "Enter the limit: 5\n"
     ]
    },
    {
     "name": "stdout",
     "output_type": "stream",
     "text": [
      "4 x 1 = 4\n",
      "4 x 2 = 8\n",
      "4 x 3 = 12\n",
      "4 x 4 = 16\n",
      "4 x 5 = 20\n"
     ]
    }
   ],
   "source": [
    "m=int(input(\"Enter the number:\"))\n",
    "n=int(input(\"Enter the limit:\"))\n",
    "i=1\n",
    "for i in range (i,n+1):\n",
    "\tprint(m,\"x\",i,\"=\",(m*i))\n"
   ]
  },
  {
   "cell_type": "code",
   "execution_count": 17,
   "id": "68cbb17f-40d3-409e-a0a8-33ca184c02e9",
   "metadata": {},
   "outputs": [
    {
     "name": "stdout",
     "output_type": "stream",
     "text": [
      "\n",
      "*\n",
      "**\n",
      "***\n",
      "****\n",
      "*****\n"
     ]
    }
   ],
   "source": [
    "n=6\n",
    "i=1\n",
    "for i in range (n):\n",
    "\tfor j in range(i):\n",
    "\t\tprint(\"*\",end=\"\")\n",
    "\t\t\n",
    "\tprint()"
   ]
  },
  {
   "cell_type": "code",
   "execution_count": 18,
   "id": "976d3001-5ffb-47a8-868e-83b0fe40b6db",
   "metadata": {},
   "outputs": [
    {
     "name": "stdout",
     "output_type": "stream",
     "text": [
      "Apple\n",
      "Orange\n",
      "Pineapple\n",
      "Jackfruit\n",
      "Mango\n"
     ]
    }
   ],
   "source": [
    "fruits=[\"Apple\",\"Orange\",\"Pineapple\",\"Jackfruit\",\"Mango\"]\n",
    "for i in  fruits:\n",
    "\tprint(i)"
   ]
  },
  {
   "cell_type": "code",
   "execution_count": 19,
   "id": "a07f4461-d884-4e2f-9b94-ecc7a1ee96cc",
   "metadata": {},
   "outputs": [
    {
     "name": "stdout",
     "output_type": "stream",
     "text": [
      "john scored 50\n",
      "Midhun scored 90\n",
      "jithu scored 99\n"
     ]
    }
   ],
   "source": [
    "students={\"john\":50,\"Midhun\":90,\"jithu\":99}\n",
    "for name,marks in students.items():\n",
    "\tprint(f\"{name} scored {marks}\")"
   ]
  },
  {
   "cell_type": "code",
   "execution_count": 20,
   "id": "0f3abf2c-574e-4c68-9dba-da190f2dc10a",
   "metadata": {},
   "outputs": [
    {
     "name": "stdout",
     "output_type": "stream",
     "text": [
      "6\n"
     ]
    }
   ],
   "source": [
    "tuple=(2,4,6,8,10)\n",
    "print(tuple[2])"
   ]
  },
  {
   "cell_type": "code",
   "execution_count": 21,
   "id": "65447d81-e1fe-4e30-b603-21785d71bf8f",
   "metadata": {},
   "outputs": [
    {
     "name": "stdout",
     "output_type": "stream",
     "text": [
      "{0, 1, 2, 3, 4, 5, 6, 7, 8, 76}\n"
     ]
    }
   ],
   "source": [
    "s=[1,2,3,2,4,5,76,8,3,6,7,0]\n",
    "print(set(s))"
   ]
  },
  {
   "cell_type": "code",
   "execution_count": 22,
   "id": "63adcd14-b698-47c7-afb9-9e885b29d096",
   "metadata": {},
   "outputs": [
    {
     "name": "stdout",
     "output_type": "stream",
     "text": [
      "first 6 characters: Python\n",
      "last 6 characters: amming\n",
      "Every second character: PtoPormig\n",
      "Reverse string: gnimmargorPnohtyP\n"
     ]
    }
   ],
   "source": [
    "s=\"PythonProgramming\"\n",
    "print(\"first 6 characters:\",s[:6])\n",
    "print(\"last 6 characters:\",s[-6:])\n",
    "print(\"Every second character:\",s[::2])\n",
    "print(\"Reverse string:\",s[::-1])"
   ]
  },
  {
   "cell_type": "code",
   "execution_count": 23,
   "id": "79e97b23-19bc-4705-ad75-f2778e16a701",
   "metadata": {},
   "outputs": [
    {
     "name": "stdout",
     "output_type": "stream",
     "text": [
      "squares from 1 to 10: [1, 4, 9, 16, 25, 36, 49, 64, 81, 100]\n"
     ]
    }
   ],
   "source": [
    "square=[x**2 for x in range(1,11)]\n",
    "print(\"squares from 1 to 10:\",square)"
   ]
  },
  {
   "cell_type": "code",
   "execution_count": 24,
   "id": "75aad95c-66ad-45f8-832f-9dffc741d44c",
   "metadata": {},
   "outputs": [
    {
     "name": "stdout",
     "output_type": "stream",
     "text": [
      "Even numbers from 1 to 50: [2, 4, 6, 8, 10, 12, 14, 16, 18, 20, 22, 24, 26, 28, 30, 32, 34, 36, 38, 40, 42, 44, 46, 48, 50]\n"
     ]
    }
   ],
   "source": [
    "even=[ x for x in range(1,51) if x%2==0]\n",
    "print(\"Even numbers from 1 to 50:\",even)"
   ]
  },
  {
   "cell_type": "code",
   "execution_count": 25,
   "id": "dd994c27-c2ca-452c-be22-3104c7856740",
   "metadata": {},
   "outputs": [
    {
     "name": "stdout",
     "output_type": "stream",
     "text": [
      "['Sunflower', 'Jasmine']\n"
     ]
    }
   ],
   "source": [
    "flowers=[\"Sunflower\",\"Rose\",\"Jasmine\" ]\n",
    "s=[i for i in flowers if len(i)>5]\n",
    "print(s)\n"
   ]
  },
  {
   "cell_type": "code",
   "execution_count": 26,
   "id": "014bfb50-54a8-424b-8869-a2e39c13cb84",
   "metadata": {},
   "outputs": [
    {
     "name": "stdin",
     "output_type": "stream",
     "text": [
      "Enter the number: 5\n"
     ]
    },
    {
     "name": "stdout",
     "output_type": "stream",
     "text": [
      "True\n"
     ]
    }
   ],
   "source": [
    "def is_prime(n):\n",
    "    if n<=1:\n",
    "        return false\n",
    "    for i in range(2,int(n**0.5)+1):\n",
    "        if n%i==0:\n",
    "            return False\n",
    "        return True\n",
    "n=int(input(\"Enter the number:\"))\n",
    "print(is_prime(n))\n",
    "        "
   ]
  },
  {
   "cell_type": "code",
   "execution_count": null,
   "id": "3dc90c05-413a-4ce0-a03a-646d27d51325",
   "metadata": {},
   "outputs": [],
   "source": []
  }
 ],
 "metadata": {
  "kernelspec": {
   "display_name": "Python 3 (ipykernel)",
   "language": "python",
   "name": "python3"
  },
  "language_info": {
   "codemirror_mode": {
    "name": "ipython",
    "version": 3
   },
   "file_extension": ".py",
   "mimetype": "text/x-python",
   "name": "python",
   "nbconvert_exporter": "python",
   "pygments_lexer": "ipython3",
   "version": "3.10.12"
  }
 },
 "nbformat": 4,
 "nbformat_minor": 5
}
