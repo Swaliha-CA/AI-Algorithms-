{
 "cells": [
  {
   "cell_type": "code",
   "execution_count": 24,
   "id": "121c1f99-f6bd-4ab8-8217-0417ec41ba5e",
   "metadata": {},
   "outputs": [
    {
     "name": "stdin",
     "output_type": "stream",
     "text": [
      "Enter the number: 7\n"
     ]
    },
    {
     "name": "stdout",
     "output_type": "stream",
     "text": [
      "True\n"
     ]
    }
   ],
   "source": [
    "def is_prime(n):\n",
    "    if n<=1:\n",
    "        return false\n",
    "    for i in range(2,int(n**0.5)+1):\n",
    "        if n%i==0:\n",
    "            return False\n",
    "        return True\n",
    "n=int(input(\"Enter the number:\"))\n",
    "print(is_prime(n))\n",
    "        \n",
    "\t\t\t\t"
   ]
  },
  {
   "cell_type": "code",
   "execution_count": 14,
   "id": "d319b955-34cf-4d07-a022-08e3fa5abf4f",
   "metadata": {},
   "outputs": [
    {
     "name": "stdout",
     "output_type": "stream",
     "text": [
      "A 1\n",
      "B 2\n",
      "None\n",
      "6\n"
     ]
    }
   ],
   "source": [
    "class student:\n",
    "    def __init__(self,name,grade):\n",
    "        self.name=name  #class attributes =self.name\n",
    "        self.grade=grade\n",
    "        \n",
    "    def get_name(self):\n",
    "        return self.name\n",
    "\n",
    "    def get_grade(self):\n",
    "        return self.grade\n",
    "\n",
    "    def set_name(self,name):\n",
    "         self.name=name\n",
    "\n",
    "    def set_grade(self,grade):\n",
    "         self.grade=grade\n",
    "\n",
    "S1=student('A',1)\n",
    "S2=student('B',2)\n",
    "S3=student('C',3)\n",
    "print(S1.name,S1.grade)\n",
    "print(S2.name,S2.grade)\n",
    "print(S3.set_name(6))\n",
    "print(S3.get_name())\n",
    "\n",
    "    \n",
    "\n",
    "    \n",
    "\n",
    "    \n",
    "        \n",
    "    "
   ]
  },
  {
   "cell_type": "code",
   "execution_count": null,
   "id": "a9741b7e-2c39-4394-878e-19b340a4847b",
   "metadata": {},
   "outputs": [],
   "source": []
  },
  {
   "cell_type": "code",
   "execution_count": null,
   "id": "a78b26cb-6a64-40a6-96e0-a9eef930ec57",
   "metadata": {},
   "outputs": [],
   "source": []
  }
 ],
 "metadata": {
  "kernelspec": {
   "display_name": "Python 3 (ipykernel)",
   "language": "python",
   "name": "python3"
  },
  "language_info": {
   "codemirror_mode": {
    "name": "ipython",
    "version": 3
   },
   "file_extension": ".py",
   "mimetype": "text/x-python",
   "name": "python",
   "nbconvert_exporter": "python",
   "pygments_lexer": "ipython3",
   "version": "3.10.12"
  }
 },
 "nbformat": 4,
 "nbformat_minor": 5
}
